{
 "cells": [
  {
   "cell_type": "markdown",
   "metadata": {},
   "source": [
    "# Practica 3 Sistemas de Recomendacion KDtree"
   ]
  },
  {
   "cell_type": "markdown",
   "metadata": {},
   "source": [
    "Primero vamos a proceder con la lectura de la base de datos, se esta creando un diccionario de diccionarios para hacer el proceso mas rapido y no usar valores Nan que nos son perjudiciales"
   ]
  },
  {
   "cell_type": "code",
   "execution_count": 1,
   "metadata": {},
   "outputs": [
    {
     "name": "stdout",
     "output_type": "stream",
     "text": [
      "Completado\n"
     ]
    }
   ],
   "source": [
    "from math import *\n",
    "import pandas as pd\n",
    "import numpy as np\n",
    "\n",
    "ratingDf=pd.read_csv(\"ratings.csv\")\n",
    "moviesDf=pd.read_csv(\"movies.csv\")\n",
    "users=dict()\n",
    "\n",
    "arr=np.array(ratingDf.iloc[:,])\n",
    "arrMov=np.array(moviesDf.iloc[:,])\n",
    "\n",
    "#diccionario de rating\n",
    "for i in arr:\n",
    "    userId, movieId = int(i[0]), int(i[1])\n",
    "    rating = float(i[2])\n",
    "    if userId not in users:\n",
    "        users[userId] = {movieId: rating}\n",
    "    else:\n",
    "        users[userId][movieId] = rating\n",
    "\n",
    "movies=dict()\n",
    "#diccionario de peliculas\n",
    "for i in arrMov:\n",
    "    movieId = int(i[0])\n",
    "    movieTitle = i[1]\n",
    "    movies[movieId] = movieTitle\n",
    "\n",
    "print(\"Completado\")"
   ]
  },
  {
   "cell_type": "markdown",
   "metadata": {},
   "source": [
    "Se han leido los datos y se han creado dos diccionarios, primero un diccionario de diccionarios, para las peliculas y los ratings, luego se ha creado un diccionario para almacenar los nombres de las peliculas"
   ]
  },
  {
   "cell_type": "code",
   "execution_count": 33,
   "metadata": {},
   "outputs": [
    {
     "name": "stdout",
     "output_type": "stream",
     "text": [
      "Cantidad de usuarios\n",
      "610\n",
      "Cantidad de peliculas\n",
      "9742\n",
      "Nro Registros promedio por pelicula\n",
      "165.30491803278687\n",
      "Porcentaje de uso %\n",
      "1.6968273253211545\n"
     ]
    }
   ],
   "source": [
    "print(\"Cantidad de usuarios\")\n",
    "print(len(users))\n",
    "print(\"Cantidad de peliculas\")\n",
    "print(len(movies))\n",
    "print(\"Nro Registros promedio por pelicula\")\n",
    "promedio=0\n",
    "for i in users:\n",
    "    promedio=promedio+len(users[i])\n",
    "print(promedio/len(users))\n",
    "print(\"Porcentaje de uso %\")\n",
    "print( (promedio/len(users))*100/len(movies))"
   ]
  },
  {
   "cell_type": "code",
   "execution_count": 37,
   "metadata": {},
   "outputs": [
    {
     "name": "stdout",
     "output_type": "stream",
     "text": [
      "Cantidad de usuarios\n",
      "610\n",
      "Cantidad de peliculas\n",
      "9742\n",
      "Nro Registros promedio por pelicula\n",
      "165.30491803278687\n",
      "Porcentaje de uso %\n",
      "1.6968273253211545\n",
      "Minimo %\n",
      "20\n",
      "0.20529665366454528\n",
      "Maximo %\n",
      "2698\n",
      "27.694518579347157\n",
      "414\n",
      "53\n"
     ]
    }
   ],
   "source": [
    "print(\"Cantidad de usuarios\")\n",
    "print(len(users))\n",
    "print(\"Cantidad de peliculas\")\n",
    "print(len(movies))\n",
    "print(\"Nro Registros promedio por pelicula\")\n",
    "promedio=0\n",
    "maximo=0\n",
    "minimo=len(movies)\n",
    "id_max=0\n",
    "id_min=0\n",
    "for i in users:\n",
    "    promedio=promedio+len(users[i])\n",
    "    if len(users[i])>maximo:\n",
    "        maximo=len(users[i])\n",
    "        id_max=i\n",
    "    if len(users[i])<minimo:\n",
    "        minimo=len(users[i])\n",
    "        id_min=i\n",
    "print(promedio/len(users))\n",
    "print(\"Porcentaje de uso %\")\n",
    "print( (promedio/len(users))*100/len(movies))\n",
    "print(\"Minimo %\")\n",
    "print(minimo)\n",
    "print((minimo)*100/len(movies))\n",
    "print(\"Maximo %\")\n",
    "print(maximo)\n",
    "print((maximo)*100/len(movies))\n",
    "print(id_max)\n",
    "print(id_min)"
   ]
  },
  {
   "cell_type": "markdown",
   "metadata": {},
   "source": [
    "Contamos con es cantidad de movies en la base de datos"
   ]
  },
  {
   "cell_type": "markdown",
   "metadata": {},
   "source": [
    "### Definimos la Funcion Cosenos"
   ]
  },
  {
   "cell_type": "markdown",
   "metadata": {},
   "source": [
    "Esta funcion no es mas que la definicion del producto punto entre dos vectores, por ello es que hay que tener cuidado en algunos casos, los cuales implementamos ahora:\n",
    "\n",
    "Primero si no hay coincidencia entre dos vectores, si ninguna de sus componentes coinciden y todos son Nan o no hay datos, el valor que inicialmente se le da es de 0, sin embargo esto no es valido, por ello escojimos un valor que este fuera de los angos posibles para el estudio y que represente nuestro valor \"no hubo coincidencias\", si usamos Nan despues no vamos a poder ordenar los valores, se tuvo cuidado con eso tambien."
   ]
  },
  {
   "cell_type": "code",
   "execution_count": 3,
   "metadata": {},
   "outputs": [],
   "source": [
    "def cosine(dicc1, dicc2):\n",
    "    xy=0\n",
    "    xx=0\n",
    "    yy=0\n",
    "    ing=True\n",
    "\n",
    "    for i in dicc1:\n",
    "        if i in dicc2:\n",
    "            xy=xy+dicc1[i]*dicc2[i]\n",
    "            xx=xx+dicc1[i]*dicc1[i]\n",
    "            yy=yy+dicc2[i]*dicc2[i]\n",
    "            ing=False\n",
    "    \n",
    "    if xx==0 or yy==0 or ing:\n",
    "        ang=-100\n",
    "    else:\n",
    "        ang=xy/(sqrt(xx)*sqrt(yy))\n",
    "    return ang"
   ]
  },
  {
   "cell_type": "markdown",
   "metadata": {},
   "source": [
    "### Definimos la Funcion Pearson"
   ]
  },
  {
   "cell_type": "markdown",
   "metadata": {},
   "source": [
    "De la misma manera cuando no tiene nada en comun da -100, esto se justifica ya que en cualquiera de las metricas o correlaciones no es posible obtener -100 amenos de no tener ninguna coincidencia."
   ]
  },
  {
   "cell_type": "code",
   "execution_count": 4,
   "metadata": {},
   "outputs": [],
   "source": [
    "def pearson(dicc1,dicc2):\n",
    "    xy=0\n",
    "    x=0\n",
    "    y=0\n",
    "    xx=0\n",
    "    yy=0\n",
    "    n=0\n",
    "    \n",
    "    for i in dicc1:\n",
    "        if i in dicc2:\n",
    "            n=n+1\n",
    "            xy=xy+dicc1[i]*dicc2[i]\n",
    "            x=x+dicc1[i]\n",
    "            y=y+dicc2[i]\n",
    "            xx=xx+dicc1[i]*dicc1[i]\n",
    "            yy=yy+dicc2[i]*dicc2[i]\n",
    "            \n",
    "    if n==0:\n",
    "        r=-100\n",
    "    else:\n",
    "        if sqrt(xx-(x*x/n))==0 or sqrt(yy-(y*y/n))==0:\n",
    "            r=-1\n",
    "        else:\n",
    "            r=(xy-((x*y)/n))/(sqrt(xx-(x*x/n))*sqrt(yy-(y*y/n)))\n",
    "    return r"
   ]
  },
  {
   "cell_type": "markdown",
   "metadata": {},
   "source": [
    "### Definimos la Funcion Manhathan"
   ]
  },
  {
   "cell_type": "code",
   "execution_count": 5,
   "metadata": {},
   "outputs": [],
   "source": [
    "def manhathan(dicc1, dicc2):\n",
    "    distance = 0.0\n",
    "    ing=True\n",
    "    for i in dicc1:\n",
    "        if i in dicc2:\n",
    "            distance = distance + abs(dicc1[i] - dicc2[i])\n",
    "            ing=False\n",
    "    if ing:\n",
    "        return -100\n",
    "    else:\n",
    "        return distance"
   ]
  },
  {
   "cell_type": "markdown",
   "metadata": {},
   "source": [
    "### Definimos la Funcion Euclidean"
   ]
  },
  {
   "cell_type": "code",
   "execution_count": 6,
   "metadata": {},
   "outputs": [],
   "source": [
    "def euclidean(dicc1, dicc2):\n",
    "    distance = 0.0\n",
    "    ing=True\n",
    "    for i in dicc1:\n",
    "        if i in dicc2:\n",
    "            distance += (dicc1[i] - dicc2[i])**2 \n",
    "            ing=False\n",
    "    if ing:\n",
    "        return -100\n",
    "    else:\n",
    "        return sqrt(distance)"
   ]
  },
  {
   "cell_type": "markdown",
   "metadata": {},
   "source": [
    "### Pruebas de Valores "
   ]
  },
  {
   "cell_type": "code",
   "execution_count": 7,
   "metadata": {},
   "outputs": [
    {
     "name": "stdout",
     "output_type": "stream",
     "text": [
      "66.5\n"
     ]
    }
   ],
   "source": [
    "row0=1\n",
    "row1=580\n",
    "distance = manhathan(users[row0], users[row1])\n",
    "print(distance)"
   ]
  },
  {
   "cell_type": "markdown",
   "metadata": {},
   "source": [
    "### Pruebas de Tiempo"
   ]
  },
  {
   "cell_type": "markdown",
   "metadata": {},
   "source": [
    "Para las pruebas de tiempo se usaron un cierto numero de valores para cada una de las funciones, anotando los tiempos demorados para poder graficarlos."
   ]
  },
  {
   "cell_type": "code",
   "execution_count": 8,
   "metadata": {},
   "outputs": [],
   "source": [
    "from time import time\n",
    "import matplotlib.pyplot as plt"
   ]
  },
  {
   "cell_type": "code",
   "execution_count": 9,
   "metadata": {},
   "outputs": [],
   "source": [
    "#euclidean  manhathan  pearson  cosine\n",
    "t_manhathan=[]\n",
    "cantidad=[]\n",
    "indice=0\n",
    "\n",
    "for i in users:\n",
    "    cantidad.append(indice)\n",
    "    start_time = time()\n",
    "    for j in users:\n",
    "        distance = manhathan(users[i], users[j])\n",
    "    t_manhathan.append(time()-start_time)\n",
    "    indice=indice+1"
   ]
  },
  {
   "cell_type": "code",
   "execution_count": 10,
   "metadata": {},
   "outputs": [
    {
     "data": {
      "text/plain": [
       "[<matplotlib.lines.Line2D at 0x24c003023c8>]"
      ]
     },
     "execution_count": 10,
     "metadata": {},
     "output_type": "execute_result"
    },
    {
     "data": {
      "image/png": "[encoded data removed]",
      "text/plain": [
       "<Figure size 432x288 with 1 Axes>"
      ]
     },
     "metadata": {
      "needs_background": "light"
     },
     "output_type": "display_data"
    }
   ],
   "source": [
    "plt.plot(cantidad,t_manhathan, label='linear')"
   ]
  },
  {
   "cell_type": "code",
   "execution_count": 11,
   "metadata": {},
   "outputs": [],
   "source": [
    "#euclidean  manhathan  pearson  cosine\n",
    "t_euclidean=[]\n",
    "cantidad=[]\n",
    "indice=0\n",
    "\n",
    "for i in users:\n",
    "    cantidad.append(indice)\n",
    "    start_time = time()\n",
    "    for j in users:\n",
    "        distance = euclidean(users[i], users[j])\n",
    "    t_euclidean.append(time()-start_time)\n",
    "    indice=indice+1"
   ]
  },
  {
   "cell_type": "code",
   "execution_count": 12,
   "metadata": {},
   "outputs": [
    {
     "data": {
      "text/plain": [
       "[<matplotlib.lines.Line2D at 0x24c0139f408>]"
      ]
     },
     "execution_count": 12,
     "metadata": {},
     "output_type": "execute_result"
    },
    {
     "data": {
      "image/png": "[encoded data removed]",
      "text/plain": [
       "<Figure size 432x288 with 1 Axes>"
      ]
     },
     "metadata": {
      "needs_background": "light"
     },
     "output_type": "display_data"
    }
   ],
   "source": [
    "plt.plot(cantidad,t_euclidean, label='linear')"
   ]
  },
  {
   "cell_type": "code",
   "execution_count": 47,
   "metadata": {},
   "outputs": [
    {
     "name": "stdout",
     "output_type": "stream",
     "text": [
      "0.008816592028883637\n"
     ]
    }
   ],
   "source": [
    "#euclidean  manhathan  pearson  cosine\n",
    "t_pearson=[]\n",
    "cantidad=[]\n",
    "indice=0\n",
    "sumatoria=0\n",
    "\n",
    "for i in users:\n",
    "    cantidad.append(indice)\n",
    "    start_time = time()\n",
    "    for j in users:\n",
    "        distance = pearson(users[i], users[j])\n",
    "    tiem=time()-start_time\n",
    "    t_pearson.append(tiem)\n",
    "    sumatoria=sumatoria+tiem\n",
    "    indice=indice+1\n",
    "\n",
    "print(sumatoria/indice)"
   ]
  },
  {
   "cell_type": "code",
   "execution_count": 48,
   "metadata": {},
   "outputs": [
    {
     "data": {
      "text/plain": [
       "[<matplotlib.lines.Line2D at 0x1c0e065b608>]"
      ]
     },
     "execution_count": 48,
     "metadata": {},
     "output_type": "execute_result"
    },
    {
     "data": {
      "image/png": "[encoded data removed]",
      "text/plain": [
       "<Figure size 432x288 with 1 Axes>"
      ]
     },
     "metadata": {
      "needs_background": "light"
     },
     "output_type": "display_data"
    }
   ],
   "source": [
    "plt.plot(cantidad,t_pearson, label='linear')"
   ]
  },
  {
   "cell_type": "code",
   "execution_count": 15,
   "metadata": {},
   "outputs": [],
   "source": [
    "#euclidean  manhathan  pearson  cosine\n",
    "t_cosine=[]\n",
    "cantidad=[]\n",
    "indice=0\n",
    "\n",
    "for i in users:\n",
    "    cantidad.append(indice)\n",
    "    start_time = time()\n",
    "    for j in users:\n",
    "        distance = cosine(users[i], users[j])\n",
    "    t_cosine.append(time()-start_time)\n",
    "    indice=indice+1"
   ]
  },
  {
   "cell_type": "code",
   "execution_count": 16,
   "metadata": {},
   "outputs": [
    {
     "data": {
      "text/plain": [
       "[<matplotlib.lines.Line2D at 0x24c0147f808>]"
      ]
     },
     "execution_count": 16,
     "metadata": {},
     "output_type": "execute_result"
    },
    {
     "data": {
      "image/png": "[encoded data removed]",
      "text/plain": [
       "<Figure size 432x288 with 1 Axes>"
      ]
     },
     "metadata": {
      "needs_background": "light"
     },
     "output_type": "display_data"
    }
   ],
   "source": [
    "plt.plot(cantidad,t_cosine, label='linear')"
   ]
  },
  {
   "cell_type": "code",
   "execution_count": 40,
   "metadata": {},
   "outputs": [
    {
     "name": "stdout",
     "output_type": "stream",
     "text": [
      "0.00011444717157082479\n"
     ]
    }
   ],
   "source": [
    "#euclidean  manhathan  pearson  cosine\n",
    "t_m=[]\n",
    "cantidad=[]\n",
    "indice=0\n",
    "elemento=414\n",
    "\n",
    "for j in users:\n",
    "    start_time = time()\n",
    "    cantidad.append(indice)\n",
    "    distance = manhathan(users[elemento], users[j])\n",
    "    t_m.append(time()-start_time)\n",
    "    indice=indice+1\n",
    "\n",
    "print(sum(t_m)/len(t_m))"
   ]
  },
  {
   "cell_type": "code",
   "execution_count": 39,
   "metadata": {},
   "outputs": [
    {
     "data": {
      "text/plain": [
       "[<matplotlib.lines.Line2D at 0x1c0df53b908>]"
      ]
     },
     "execution_count": 39,
     "metadata": {},
     "output_type": "execute_result"
    },
    {
     "data": {
      "image/png": "[encoded data removed]",
      "text/plain": [
       "<Figure size 432x288 with 1 Axes>"
      ]
     },
     "metadata": {
      "needs_background": "light"
     },
     "output_type": "display_data"
    }
   ],
   "source": [
    "plt.plot(cantidad,t_m, label='linear')"
   ]
  },
  {
   "cell_type": "code",
   "execution_count": 43,
   "metadata": {},
   "outputs": [
    {
     "name": "stdout",
     "output_type": "stream",
     "text": [
      "1.6349260924292392e-06\n"
     ]
    }
   ],
   "source": [
    "#euclidean  manhathan  pearson  cosine\n",
    "t_m=[]\n",
    "cantidad=[]\n",
    "indice=0\n",
    "elemento=53\n",
    "\n",
    "for j in users:\n",
    "    start_time = time()\n",
    "    cantidad.append(indice)\n",
    "    distance = manhathan(users[elemento], users[j])\n",
    "    t_m.append(time()-start_time)\n",
    "    indice=indice+1\n",
    "\n",
    "print(sum(t_m)/len(t_m))"
   ]
  },
  {
   "cell_type": "code",
   "execution_count": 44,
   "metadata": {},
   "outputs": [
    {
     "data": {
      "text/plain": [
       "[<matplotlib.lines.Line2D at 0x1c0e0626ec8>]"
      ]
     },
     "execution_count": 44,
     "metadata": {},
     "output_type": "execute_result"
    },
    {
     "data": {
      "image/png": "[encoded data removed]",
      "text/plain": [
       "<Figure size 432x288 with 1 Axes>"
      ]
     },
     "metadata": {
      "needs_background": "light"
     },
     "output_type": "display_data"
    }
   ],
   "source": [
    "plt.plot(cantidad,t_m, label='linear')"
   ]
  },
  {
   "cell_type": "markdown",
   "metadata": {},
   "source": [
    "### Buscar vecinos"
   ]
  },
  {
   "cell_type": "code",
   "execution_count": 9,
   "metadata": {},
   "outputs": [],
   "source": [
    "def get_neighbors(users,id_test,distancia):\n",
    "    distances = list()\n",
    "    for i in users:\n",
    "        if (i!=id_test):\n",
    "            dist = distancia(users[i],users[id_test])\n",
    "            if dist!=-100:\n",
    "                distances.append((i,dist))\n",
    "    distances.sort(key=lambda tup: tup[1])\n",
    "    return distances"
   ]
  },
  {
   "cell_type": "markdown",
   "metadata": {},
   "source": [
    "### KNN"
   ]
  },
  {
   "cell_type": "code",
   "execution_count": 10,
   "metadata": {},
   "outputs": [],
   "source": [
    "def knn(result,users,persona,vecinos,distancia,umbral):\n",
    "    neighbors = get_neighbors(users,persona,distancia)\n",
    "    contador=0\n",
    "    \n",
    "    #euclidean  manhathan  pearson  cosine\n",
    "    if distancia==euclidean or distancia==manhathan:\n",
    "        for i in range( len(users.keys()) ):\n",
    "            #if neighbors[i][1]>umbral:\n",
    "            print(\"id: \"+str(neighbors[i][0]+1)+\" distancia: \"+str(neighbors[i][1]))\n",
    "            result[neighbors[i][0]+1] =neighbors[i][1]\n",
    "            contador=contador+1\n",
    "            if contador==vecinos:\n",
    "                break\n",
    "    else:\n",
    "        for i in range( len(users.keys()) ):\n",
    "            #if neighbors[i][1]>umbral:\n",
    "            print(\"id: \"+str(neighbors[len(neighbors)-i-1][0]+1)+\" distancia: \"+str(neighbors[len(neighbors)-i-1][1]))\n",
    "            result[neighbors[len(neighbors)-i-1][0]+1] = neighbors[len(neighbors)-i-1][1]\n",
    "            contador=contador+1\n",
    "            if contador==vecinos:\n",
    "                break"
   ]
  },
  {
   "cell_type": "code",
   "execution_count": 16,
   "metadata": {},
   "outputs": [
    {
     "name": "stdout",
     "output_type": "stream",
     "text": [
      "id: 208 distancia: 0.7071067811865476\n",
      "id: 359 distancia: 1.0\n",
      "id: 551 distancia: 1.224744871391589\n",
      "id: 576 distancia: 1.224744871391589\n",
      "id: 195 distancia: 1.3228756555322954\n",
      "id: 325 distancia: 1.3228756555322954\n",
      "id: 506 distancia: 1.3228756555322954\n",
      "id: 596 distancia: 1.4142135623730951\n",
      "id: 13 distancia: 1.5\n",
      "id: 548 distancia: 1.5\n",
      "id: 93 distancia: 1.5811388300841898\n",
      "id: 509 distancia: 1.5811388300841898\n",
      "id: 569 distancia: 1.5811388300841898\n",
      "id: 282 distancia: 1.6583123951777\n",
      "id: 107 distancia: 1.7320508075688772\n"
     ]
    }
   ],
   "source": [
    "#Nro de vecinos más cercanos, Función de Distancia (Manhattan, Euclides, Pearson, Coseno)\n",
    "#Id. ó nombre de usuario , Umbral\n",
    "#euclidean  manhathan  pearson  cosine\n",
    "persona = 580\n",
    "vecinos=15\n",
    "umbral=0\n",
    "\n",
    "result=dict()\n",
    "knn(result,users,persona,vecinos,euclidean,umbral)"
   ]
  },
  {
   "cell_type": "code",
   "execution_count": 17,
   "metadata": {},
   "outputs": [
    {
     "name": "stdout",
     "output_type": "stream",
     "text": [
      "id: 208 distancia: 1.0\n",
      "id: 359 distancia: 1.0\n",
      "id: 93 distancia: 2.0\n",
      "id: 279 distancia: 2.0\n",
      "id: 551 distancia: 2.0\n",
      "id: 576 distancia: 2.0\n",
      "id: 596 distancia: 2.0\n",
      "id: 13 distancia: 2.5\n",
      "id: 176 distancia: 2.5\n",
      "id: 195 distancia: 2.5\n",
      "id: 282 distancia: 2.5\n",
      "id: 325 distancia: 2.5\n",
      "id: 506 distancia: 2.5\n",
      "id: 548 distancia: 2.5\n",
      "id: 128 distancia: 3.0\n"
     ]
    }
   ],
   "source": [
    "#Nro de vecinos más cercanos, Función de Distancia (Manhattan, Euclides, Pearson, Coseno)\n",
    "#Id. ó nombre de usuario , Umbral\n",
    "#euclidean  manhathan  pearson  cosine\n",
    "persona = 580\n",
    "vecinos=15\n",
    "umbral=0\n",
    "#580\n",
    "\n",
    "result=dict()\n",
    "knn(result,users,persona,vecinos,manhathan,umbral)"
   ]
  },
  {
   "cell_type": "code",
   "execution_count": 13,
   "metadata": {},
   "outputs": [
    {
     "name": "stdout",
     "output_type": "stream",
     "text": [
      "id: 13 distancia: 1.000000000000002\n",
      "id: 93 distancia: 1.0\n",
      "id: 176 distancia: 0.9999999999999999\n",
      "id: 208 distancia: 0.9819805060619665\n",
      "id: 88 distancia: 0.967805338634416\n",
      "id: 148 distancia: 0.9449111825230488\n",
      "id: 506 distancia: 0.9379366108168804\n",
      "id: 551 distancia: 0.9045340337332909\n",
      "id: 548 distancia: 0.8728715609439696\n",
      "id: 195 distancia: 0.8703882797784892\n"
     ]
    }
   ],
   "source": [
    "#Nro de vecinos más cercanos, Función de Distancia (Manhattan, Euclides, Pearson, Coseno)\n",
    "#Id. ó nombre de usuario , Umbral\n",
    "#euclidean  manhathan  pearson  cosine\n",
    "persona = 580\n",
    "vecinos=10\n",
    "umbral=0\n",
    "#580\n",
    "\n",
    "result=dict()\n",
    "knn(result,users,persona,vecinos,pearson,umbral)"
   ]
  },
  {
   "cell_type": "code",
   "execution_count": 14,
   "metadata": {
    "scrolled": false
   },
   "outputs": [
    {
     "name": "stdout",
     "output_type": "stream",
     "text": [
      "id: 13 distancia: 0.9996081120648961\n",
      "id: 208 distancia: 0.9980723012298871\n",
      "id: 506 distancia: 0.996525328643134\n",
      "id: 455 distancia: 0.9951152672684376\n",
      "id: 107 distancia: 0.994998372086408\n",
      "id: 359 distancia: 0.9946830503370405\n",
      "id: 583 distancia: 0.9944092912769698\n",
      "id: 401 distancia: 0.9941436380819285\n",
      "id: 548 distancia: 0.9941090093171839\n",
      "id: 294 distancia: 0.9940516516415969\n"
     ]
    }
   ],
   "source": [
    "#Nro de vecinos más cercanos, Función de Distancia (Manhattan, Euclides, Pearson, Coseno)\n",
    "#Id. ó nombre de usuario , Umbral\n",
    "#euclidean  manhathan  pearson  cosine\n",
    "persona = 580\n",
    "vecinos=10\n",
    "umbral=0\n",
    "#580\n",
    "\n",
    "result=dict()\n",
    "knn(result,users,persona,vecinos,cosine,umbral)"
   ]
  },
  {
   "cell_type": "code",
   "execution_count": 18,
   "metadata": {},
   "outputs": [],
   "source": [
    "def knn(result,users,persona,vecinos,distancia,umbral):\n",
    "    neighbors = get_neighbors(users,persona,distancia)\n",
    "    contador=0\n",
    "    \n",
    "    #euclidean  manhathan  pearson  cosine\n",
    "    if distancia==euclidean or distancia==manhathan:\n",
    "        for i in range( len(users.keys()) ):\n",
    "            #if neighbors[i][1]>umbral:\n",
    "            result[neighbors[i][0]+1] =neighbors[i][1]\n",
    "            contador=contador+1\n",
    "            if contador==vecinos:\n",
    "                break\n",
    "    else:\n",
    "        for i in range( len(users.keys()) ):\n",
    "            #if neighbors[i][1]>umbral:\n",
    "            result[neighbors[len(neighbors)-i-1][0]+1] = neighbors[len(neighbors)-i-1][1]\n",
    "            contador=contador+1\n",
    "            if contador==vecinos:\n",
    "                break\n",
    "                \n",
    "def recomendacion(users,persona,vecinos,distancia,umbral,nro_peliculas):\n",
    "    result=dict()\n",
    "    knn(result,users,persona,vecinos,distancia,umbral)\n",
    "    recom = list()\n",
    "    \n",
    "    for peli in movies:        \n",
    "        calificacion=0\n",
    "        total=0\n",
    "        cantidad=0\n",
    "        #sumatoria de distancia\n",
    "        for i in result:\n",
    "            if peli in users[i]:\n",
    "                total=total+result[i]\n",
    "                cantidad=cantidad+1\n",
    "        #sumatoria de peso\n",
    "        for i in result:\n",
    "            if peli in users[i]:\n",
    "                calificacion=calificacion+result[i]*users[i][peli]\n",
    "        \n",
    "        if total !=0:\n",
    "            if cantidad>2:\n",
    "                recom.append((peli,calificacion/total))\n",
    "    recom.sort(key=lambda tup: tup[1])\n",
    "    i=0\n",
    "    j=0\n",
    "    while(i<len(recom) and j<nro_peliculas ):\n",
    "        if recom[len(recom)-i-1][1]>umbral: #and recom[len(recom)-i-1][1]<4.99999\n",
    "            print(movies[recom[len(recom)-i-1][0]]+\" con puntaje de: \"+str(recom[len(recom)-i-1][1]))\n",
    "            j=j+1\n",
    "        i=i+1"
   ]
  },
  {
   "cell_type": "code",
   "execution_count": 19,
   "metadata": {},
   "outputs": [
    {
     "name": "stdout",
     "output_type": "stream",
     "text": [
      "Silence of the Lambs, The (1991) con puntaje de: 4.686445484444097\n",
      "Shawshank Redemption, The (1994) con puntaje de: 4.683569027417468\n",
      "Die Hard (1988) con puntaje de: 4.499999999999999\n",
      "Pulp Fiction (1994) con puntaje de: 4.417489060497194\n",
      "Traffic (2000) con puntaje de: 4.362854057411284\n",
      "Good Will Hunting (1997) con puntaje de: 4.313554515555903\n",
      "Sixth Sense, The (1999) con puntaje de: 4.288988727515063\n",
      "Mission: Impossible (1996) con puntaje de: 4.231951430342468\n",
      "Back to the Future (1985) con puntaje de: 4.066292148363716\n",
      "Saving Private Ryan (1998) con puntaje de: 3.998956459841816\n",
      "Titanic (1997) con puntaje de: 3.968324561535551\n",
      "Shrek (2001) con puntaje de: 3.9089881082032587\n",
      "Star Wars: Episode VI - Return of the Jedi (1983) con puntaje de: 3.8118513848549376\n",
      "Matrix, The (1999) con puntaje de: 3.502725152252969\n",
      "Terminator 2: Judgment Day (1991) con puntaje de: 3.4540482885696595\n"
     ]
    }
   ],
   "source": [
    "#euclidean  manhathan  pearson  cosine\n",
    "persona = 580\n",
    "vecinos=7\n",
    "umbral=0\n",
    "nro_peliculas=15\n",
    "recomendacion(users,persona,vecinos,euclidean,umbral,nro_peliculas)"
   ]
  },
  {
   "cell_type": "code",
   "execution_count": 20,
   "metadata": {},
   "outputs": [
    {
     "name": "stdout",
     "output_type": "stream",
     "text": [
      "Saving Private Ryan (1998) con puntaje de: 4.571428571428571\n",
      "Rogue One: A Star Wars Story (2016) con puntaje de: 4.5\n",
      "Good Will Hunting (1997) con puntaje de: 4.5\n",
      "Die Hard (1988) con puntaje de: 4.5\n",
      "Schindler's List (1993) con puntaje de: 4.5\n",
      "E.T. the Extra-Terrestrial (1982) con puntaje de: 4.4\n",
      "Jurassic Park (1993) con puntaje de: 4.4\n",
      "Silence of the Lambs, The (1991) con puntaje de: 4.388888888888889\n",
      "Star Wars: Episode IV - A New Hope (1977) con puntaje de: 4.375\n",
      "Titanic (1997) con puntaje de: 4.3\n",
      "Shrek (2001) con puntaje de: 4.2\n",
      "Pulp Fiction (1994) con puntaje de: 4.2\n",
      "John Wick (2014) con puntaje de: 4.166666666666667\n",
      "Skyfall (2012) con puntaje de: 4.166666666666667\n",
      "Shawshank Redemption, The (1994) con puntaje de: 4.166666666666667\n"
     ]
    }
   ],
   "source": [
    "#euclidean  manhathan  pearson  cosine\n",
    "persona = 580\n",
    "vecinos=7\n",
    "umbral=0\n",
    "nro_peliculas=15\n",
    "recomendacion(users,persona,vecinos,manhathan,umbral,nro_peliculas)"
   ]
  },
  {
   "cell_type": "code",
   "execution_count": 21,
   "metadata": {},
   "outputs": [
    {
     "name": "stdout",
     "output_type": "stream",
     "text": [
      "Braveheart (1995) con puntaje de: 4.670695196006234\n",
      "Shawshank Redemption, The (1994) con puntaje de: 4.663050676881614\n",
      "True Lies (1994) con puntaje de: 4.012085588018702\n",
      "Rock, The (1996) con puntaje de: 4.006042794009351\n",
      "GoldenEye (1995) con puntaje de: 3.676737990015585\n"
     ]
    }
   ],
   "source": [
    "#euclidean  manhathan  pearson  cosine\n",
    "persona = 580\n",
    "vecinos=7\n",
    "umbral=0\n",
    "nro_peliculas=15\n",
    "recomendacion(users,persona,vecinos,pearson,umbral,nro_peliculas)"
   ]
  },
  {
   "cell_type": "code",
   "execution_count": 22,
   "metadata": {},
   "outputs": [
    {
     "name": "stdout",
     "output_type": "stream",
     "text": [
      "Dances with Wolves (1990) con puntaje de: 4.333355493029952\n",
      "Braveheart (1995) con puntaje de: 4.332977395607352\n",
      "Matrix, The (1999) con puntaje de: 4.168982091893179\n",
      "Titanic (1997) con puntaje de: 4.166407283994059\n",
      "Silence of the Lambs, The (1991) con puntaje de: 4.000282438634295\n",
      "Apollo 13 (1995) con puntaje de: 3.8333359112637244\n",
      "Santa Clause, The (1994) con puntaje de: 3.666574762400041\n",
      "Pulp Fiction (1994) con puntaje de: 3.666565641748685\n",
      "Cruel Intentions (1999) con puntaje de: 3.498453733804508\n",
      "Terminator 2: Judgment Day (1991) con puntaje de: 3.334041338650374\n",
      "True Lies (1994) con puntaje de: 2.998971305934571\n"
     ]
    }
   ],
   "source": [
    "#euclidean  manhathan  pearson  cosine\n",
    "persona = 580\n",
    "vecinos=7\n",
    "umbral=0\n",
    "nro_peliculas=15\n",
    "recomendacion(users,persona,vecinos,cosine,umbral,nro_peliculas)"
   ]
  },
  {
   "cell_type": "markdown",
   "metadata": {},
   "source": [
    "Lo que nos falta es aplicar el algoritmo sobre un nuevo ingresante a la base de datos, el cual vamos a recibir como un archivo csv, para no ingresarlo todo el tiempo a mano"
   ]
  },
  {
   "cell_type": "code",
   "execution_count": 26,
   "metadata": {},
   "outputs": [
    {
     "name": "stdout",
     "output_type": "stream",
     "text": [
      "Completado\n"
     ]
    }
   ],
   "source": [
    "personaDf=pd.read_csv(\"nuevo.csv\")\n",
    "personas=dict()\n",
    "personas.clear()\n",
    "per=np.array(personaDf.iloc[:,])\n",
    "\n",
    "#diccionario de rating\n",
    "for i in per:\n",
    "    userId, movieId = int(i[0]), int(i[1])\n",
    "    rating = float(i[2])\n",
    "    \n",
    "    if userId not in personas:\n",
    "        personas[userId] = {movieId: rating}\n",
    "    else:\n",
    "        personas[userId][movieId] = rating\n",
    "\n",
    "print(\"Completado\")"
   ]
  },
  {
   "cell_type": "markdown",
   "metadata": {},
   "source": [
    "Haremos unas modificaciones para poder soportar un diccionario con las personas que querramos verificar"
   ]
  },
  {
   "cell_type": "code",
   "execution_count": 45,
   "metadata": {},
   "outputs": [],
   "source": [
    "def get_neighbors(users,id_test,distancia,buscar):\n",
    "    distances = list()\n",
    "    for i in users:\n",
    "        if (i!=id_test):\n",
    "            dist = distancia(users[i],buscar[id_test])\n",
    "            if dist!=-100:\n",
    "                distances.append((i,dist))\n",
    "    distances.sort(key=lambda tup: tup[1])\n",
    "    return distances\n",
    "\n",
    "def knn(result,users,persona,vecinos,distancia,umbral,buscar):\n",
    "    start_time2 = time()\n",
    "    neighbors = get_neighbors(users,persona,distancia,buscar)\n",
    "    print(\"Timepo Get Vecinos\")\n",
    "    print(time()-start_time2)\n",
    "    contador=0\n",
    "    \n",
    "    #euclidean  manhathan  pearson  cosine\n",
    "    if distancia==euclidean or distancia==manhathan:\n",
    "        for i in range( len(users.keys()) ):\n",
    "            #if neighbors[i][1]>umbral:\n",
    "            result[neighbors[i][0]+1] =neighbors[i][1]\n",
    "            contador=contador+1\n",
    "            if contador==vecinos:\n",
    "                break\n",
    "    else:\n",
    "        for i in range( len(users.keys()) ):\n",
    "            #if neighbors[i][1]>umbral:\n",
    "            result[neighbors[len(neighbors)-i-1][0]+1] = neighbors[len(neighbors)-i-1][1]\n",
    "            contador=contador+1\n",
    "            if contador==vecinos:\n",
    "                break\n",
    "\n",
    "def recomendacion(users,persona,vecinos,distancia,umbral,nro_peliculas,buscar):\n",
    "    result=dict()\n",
    "    \n",
    "    start_time1 = time()\n",
    "    knn(result,users,persona,vecinos,distancia,umbral,buscar)\n",
    "    print(\"Timepo Knn\")\n",
    "    print(time()-start_time1)\n",
    "    \n",
    "    recom = list()\n",
    "    \n",
    "    for peli in movies:        \n",
    "        calificacion=0\n",
    "        total=0\n",
    "        cantidad=0\n",
    "        #sumatoria de distancia\n",
    "        for i in result:\n",
    "            if peli in users[i]:\n",
    "                total=total+result[i]\n",
    "                cantidad=cantidad+1\n",
    "        #sumatoria de peso\n",
    "        for i in result:\n",
    "            if peli in users[i]:\n",
    "                calificacion=calificacion+result[i]*users[i][peli]\n",
    "        \n",
    "        if total !=0:\n",
    "            if cantidad>2:\n",
    "                recom.append((peli,calificacion/total))\n",
    "    recom.sort(key=lambda tup: tup[1])\n",
    "    i=0\n",
    "    j=0\n",
    "    while(i<len(recom) and j<nro_peliculas ):\n",
    "        if recom[len(recom)-i-1][1]>umbral: #and recom[len(recom)-i-1][1]<4.99999\n",
    "            print(movies[recom[len(recom)-i-1][0]]+\" con puntaje de: \"+str(recom[len(recom)-i-1][1]))\n",
    "            j=j+1\n",
    "        i=i+1"
   ]
  },
  {
   "cell_type": "markdown",
   "metadata": {},
   "source": [
    "Lo que hemos hecho es agregar un campo para un diccionario de personas que querramos evaluar junto con el dataset que ya tenemos."
   ]
  },
  {
   "cell_type": "code",
   "execution_count": 46,
   "metadata": {},
   "outputs": [
    {
     "name": "stdout",
     "output_type": "stream",
     "text": [
      "La recomendacion para 1000 es de:\n",
      "Timepo Get Vecinos\n",
      "0.010970354080200195\n",
      "Timepo Knn\n",
      "0.010970354080200195\n",
      "Memento (2000) con puntaje de: 4.75\n",
      "Beautiful Mind, A (2001) con puntaje de: 4.666666666666667\n",
      "Snatch (2000) con puntaje de: 4.666666666666667\n",
      "Shawshank Redemption, The (1994) con puntaje de: 4.625\n",
      "Eternal Sunshine of the Spotless Mind (2004) con puntaje de: 4.5\n",
      "Kill Bill: Vol. 1 (2003) con puntaje de: 4.5\n",
      "Shrek (2001) con puntaje de: 4.5\n",
      "Finding Nemo (2003) con puntaje de: 4.4\n",
      "Casino Royale (2006) con puntaje de: 4.333333333333333\n",
      "Bourne Identity, The (2002) con puntaje de: 4.333333333333333\n",
      " \n",
      "La recomendacion para 1451 es de:\n",
      "Timepo Get Vecinos\n",
      "0.0050241947174072266\n",
      "Timepo Knn\n",
      "0.005358219146728516\n",
      "Seven (a.k.a. Se7en) (1995) con puntaje de: 4.625\n",
      "Fight Club (1999) con puntaje de: 4.5\n",
      "Die Hard: With a Vengeance (1995) con puntaje de: 4.5\n",
      "Star Wars: Episode IV - A New Hope (1977) con puntaje de: 4.375\n",
      "Rogue One: A Star Wars Story (2016) con puntaje de: 4.333333333333333\n",
      "WALL·E (2008) con puntaje de: 4.333333333333333\n",
      "Good Will Hunting (1997) con puntaje de: 4.333333333333333\n",
      "Terminator 2: Judgment Day (1991) con puntaje de: 4.3\n",
      "Matrix, The (1999) con puntaje de: 4.25\n",
      "Jurassic Park (1993) con puntaje de: 4.25\n",
      " \n",
      "La recomendacion para 1536 es de:\n",
      "Timepo Get Vecinos\n",
      "0.003985881805419922\n",
      "Timepo Knn\n",
      "0.003985881805419922\n",
      "Usual Suspects, The (1995) con puntaje de: 4.8\n",
      "Princess Bride, The (1987) con puntaje de: 4.666666666666667\n",
      "Amelie (Fabuleux destin d'Amélie Poulain, Le) (2001) con puntaje de: 4.5\n",
      "Shawshank Redemption, The (1994) con puntaje de: 4.416666666666667\n",
      "King's Speech, The (2010) con puntaje de: 4.333333333333333\n",
      "Dark Knight, The (2008) con puntaje de: 4.333333333333333\n",
      "Monsters, Inc. (2001) con puntaje de: 4.333333333333333\n",
      "American Beauty (1999) con puntaje de: 4.333333333333333\n",
      "Silence of the Lambs, The (1991) con puntaje de: 4.3\n",
      "Inception (2010) con puntaje de: 4.25\n",
      " \n"
     ]
    }
   ],
   "source": [
    "#euclidean  manhathan  pearson  cosine\n",
    "vecinos=10\n",
    "umbral=0\n",
    "nro_peliculas=10\n",
    "for i in personas:\n",
    "    print(\"La recomendacion para \"+str(i)+\" es de:\")\n",
    "    recomendacion(users,i,vecinos,cosine,umbral,nro_peliculas,personas)\n",
    "    print(\" \")"
   ]
  },
  {
   "cell_type": "code",
   "execution_count": null,
   "metadata": {},
   "outputs": [],
   "source": []
  }
 ],
 "metadata": {
  "kernelspec": {
   "display_name": "Python 3",
   "language": "python",
   "name": "python3"
  },
  "language_info": {
   "codemirror_mode": {
    "name": "ipython",
    "version": 3
   },
   "file_extension": ".py",
   "mimetype": "text/x-python",
   "name": "python",
   "nbconvert_exporter": "python",
   "pygments_lexer": "ipython3",
   "version": "3.7.6"
  }
 },
 "nbformat": 4,
 "nbformat_minor": 4
}
